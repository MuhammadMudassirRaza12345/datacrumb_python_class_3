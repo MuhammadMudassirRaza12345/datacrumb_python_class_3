{
  "nbformat": 4,
  "nbformat_minor": 0,
  "metadata": {
    "colab": {
      "provenance": []
    },
    "kernelspec": {
      "name": "python3",
      "display_name": "Python 3"
    },
    "language_info": {
      "name": "python"
    }
  },
  "cells": [
    {
      "cell_type": "markdown",
      "source": [
        "## Treasure Island\n",
        "\n",
        "# Instructions\n",
        "\n",
        "Make your own \"Choose Your Own Adventure\" game. Use conditionals such as `if`, `else`, and `elif` statements to lay out the logic and the story's path in your program.\n",
        "\n",
        "[To write your code according to my story, you can use this flow chart from draw.io to help you.](https://www.draw.io/?lightbox=1&highlight=0000ff&edit=_blank&layers=1&nav=1&title=Treasure%20Island%20Conditional.drawio#Uhttps%3A%2F%2Fdrive.google.com%2Fuc%3Fid%3D1oDe4ehjWZipYRsVfeAx2HyB7LCQ8_Fvi%26export%3Ddownload)\n",
        "\n",
        "However, I think the fun part is writing your *own* story 😊\n",
        "\n",
        "🧞‍♂️ 🐊 🧙‍♂️ 🧟 🧚‍♂️ 🧝‍♂️ 🥷 🤖 👽 🙀\n",
        "\n",
        "That said if you'd like to continue with my example, feel free to use the text snippets below...\n",
        "\n",
        "### Text Snippets from my example\n",
        "\n",
        "* 'You\\'re at a crossroad. Where do you want to go? Type \"left\" or \"right\"'\n",
        "* 'You\\'ve come to a lake. There is an island in the middle of the lake. Type \"wait\" to wait for a boat. Type \"swim\" to swim across.'\n",
        "* \"You arrive at the island unharmed. There is a house with 3 doors. One red, one yellow and one blue. Which colour do you choose?\"\n",
        "* \"It\\'s a room full of fire. Game Over.\"\n",
        "* \"You found the treasure! You Win!\"\n",
        "* \"You enter a room of beasts. Game Over.\"\n",
        "* \"You chose a door that doesn\\'t exist. Game Over.\"\n",
        "* \"You get attacked by an angry trout. Game Over.\"\n",
        "* \"You fell into a hole. Game Over.\"\n",
        "\n",
        "# Escaping Characters\n",
        "\n",
        "If you want to use multiple sets of quotes inside a single string, you might have to \"escape\" some of them using the backslash `\\`. You can see this in my first sentence: 'You\\'re at a crossroad...'. [More on escaping characters here.](https://www.w3schools.com/python/gloss_python_escape_characters.asp)\n",
        "\n",
        "# Extensions\n",
        "\n",
        "Have a think about how you might write your program to make a player's answers less case-sensitive. In other words, your code should work regardless of whether your user answers \"left\" or \"Left\".\n",
        "\n",
        "[You can also add your own ASCII art](https://ascii.co.uk/art). Just remember to add three single quotes `'''` at the start and at the end of your artwork to turn it into a multi-line string.\n",
        "\n"
      ],
      "metadata": {
        "id": "uqUY-Zo-BN9r"
      }
    },
    {
      "cell_type": "code",
      "source": [
        "print('''\n",
        "*******************************************************************************\n",
        "          |                   |                  |                     |\n",
        " _________|________________.=\"\"_;=.______________|_____________________|_______\n",
        "|                   |  ,-\"_,=\"\"     `\"=.|                  |\n",
        "|___________________|__\"=._o`\"-._        `\"=.______________|___________________\n",
        "          |                `\"=._o`\"=._      _`\"=._                     |\n",
        " _________|_____________________:=._o \"=._.\"_.-=\"'\"=.__________________|_______\n",
        "|                   |    __.--\" , ; `\"=._o.\" ,-\"\"\"-._ \".   |\n",
        "|___________________|_._\"  ,. .` ` `` ,  `\"-._\"-._   \". '__|___________________\n",
        "          |           |o`\"=._` , \"` `; .\". ,  \"-._\"-._; ;              |\n",
        " _________|___________| ;`-.o`\"=._; .\" ` '`.\"\\` . \"-._ /_______________|_______\n",
        "|                   | |o;    `\"-.o`\"=._``  '` \" ,__.--o;   |\n",
        "|___________________|_| ;     (#) `-.o `\"=.`_.--\"_o.-; ;___|___________________\n",
        "____/______/______/___|o;._    \"      `\".o|o_.--\"    ;o;____/______/______/____\n",
        "/______/______/______/_\"=._o--._        ; | ;        ; ;/______/______/______/_\n",
        "____/______/______/______/__\"=._o--._   ;o|o;     _._;o;____/______/______/____\n",
        "/______/______/______/______/____\"=._o._; | ;_.--\"o.--\"_/______/______/______/_\n",
        "____/______/______/______/______/_____\"=.o|o_.--\"\"___/______/______/______/____\n",
        "/______/______/______/______/______/______/______/______/______/______/_____ /\n",
        "*******************************************************************************\n",
        "''')\n",
        "print(\"Welcome to Treasure Island.\")\n",
        "print(\"Your mission is to find the treasure.\")\n",
        "\n",
        "#https://www.draw.io/?lightbox=1&highlight=0000ff&edit=_blank&layers=1&nav=1&title=Treasure%20Island%20Conditional.drawio#Uhttps%3A%2F%2Fdrive.google.com%2Fuc%3Fid%3D1oDe4ehjWZipYRsVfeAx2HyB7LCQ8_Fvi%26export%3Ddownload\n",
        "\n",
        "#Write your code below this line 👇\n",
        "user_choice=input(\" you are at crossland where you want to go, type left or Right:  \").lower()\n",
        "\n",
        "if user_choice == \"left\":\n",
        "  user_choice2 = input(\" swim or wait: \").lower()\n",
        "  if user_choice2 == \"wait\":\n",
        "    user_choice3 = input(\" select the door , blue or red or yellow: \").lower()\n",
        "    if user_choice3 == \"red\":\n",
        "      print(\"Burned by fire. Game Over. \")\n",
        "    elif user_choice3 == \"yellow\":\n",
        "      print(\" you win !\")\n",
        "    elif user_choice3 == \"blue\":\n",
        "      print(\" Eaten by beasts. Game Over.\")\n",
        "    else :\n",
        "      print(\" Game Over\")\n",
        "  else:\n",
        "    print(\" Attacked by trout.Game Over.\")\n",
        "\n",
        "else:\n",
        "  print(\" you fell into whole . Game Over \")\n"
      ],
      "metadata": {
        "colab": {
          "base_uri": "https://localhost:8080/"
        },
        "id": "cftJwX4QAOSa",
        "outputId": "58125d5b-3826-4f71-fdba-ec27169fda52"
      },
      "execution_count": 7,
      "outputs": [
        {
          "output_type": "stream",
          "name": "stdout",
          "text": [
            "\n",
            "*******************************************************************************\n",
            "          |                   |                  |                     |\n",
            " _________|________________.=\"\"_;=.______________|_____________________|_______\n",
            "|                   |  ,-\"_,=\"\"     `\"=.|                  |\n",
            "|___________________|__\"=._o`\"-._        `\"=.______________|___________________\n",
            "          |                `\"=._o`\"=._      _`\"=._                     |\n",
            " _________|_____________________:=._o \"=._.\"_.-=\"'\"=.__________________|_______\n",
            "|                   |    __.--\" , ; `\"=._o.\" ,-\"\"\"-._ \".   |\n",
            "|___________________|_._\"  ,. .` ` `` ,  `\"-._\"-._   \". '__|___________________\n",
            "          |           |o`\"=._` , \"` `; .\". ,  \"-._\"-._; ;              |\n",
            " _________|___________| ;`-.o`\"=._; .\" ` '`.\"\\` . \"-._ /_______________|_______\n",
            "|                   | |o;    `\"-.o`\"=._``  '` \" ,__.--o;   |\n",
            "|___________________|_| ;     (#) `-.o `\"=.`_.--\"_o.-; ;___|___________________\n",
            "____/______/______/___|o;._    \"      `\".o|o_.--\"    ;o;____/______/______/____\n",
            "/______/______/______/_\"=._o--._        ; | ;        ; ;/______/______/______/_\n",
            "____/______/______/______/__\"=._o--._   ;o|o;     _._;o;____/______/______/____\n",
            "/______/______/______/______/____\"=._o._; | ;_.--\"o.--\"_/______/______/______/_\n",
            "____/______/______/______/______/_____\"=.o|o_.--\"\"___/______/______/______/____\n",
            "/______/______/______/______/______/______/______/______/______/______/_____ /\n",
            "*******************************************************************************\n",
            "\n",
            "Welcome to Treasure Island.\n",
            "Your mission is to find the treasure.\n",
            " you are at crossland where you want to go, type left or Right:  left\n",
            " swim or wait: wait\n",
            " select the door , blue or red or yellow: yellow\n",
            " you win !\n"
          ]
        }
      ]
    },
    {
      "cell_type": "markdown",
      "source": [
        "## Write your code below"
      ],
      "metadata": {
        "id": "HB2WaCP8gdQV"
      }
    },
    {
      "cell_type": "code",
      "source": [],
      "metadata": {
        "id": "9ZzPkWuYAQzB"
      },
      "execution_count": null,
      "outputs": []
    }
  ]
}